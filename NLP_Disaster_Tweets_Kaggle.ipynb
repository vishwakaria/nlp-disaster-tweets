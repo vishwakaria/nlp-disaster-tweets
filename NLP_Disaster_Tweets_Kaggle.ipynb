{
  "nbformat": 4,
  "nbformat_minor": 0,
  "metadata": {
    "colab": {
      "name": "NLP_Disaster_Tweets_Kaggle.ipynb",
      "provenance": []
    },
    "kernelspec": {
      "name": "python3",
      "display_name": "Python 3"
    },
    "language_info": {
      "name": "python"
    }
  },
  "cells": [
    {
      "cell_type": "code",
      "metadata": {
        "colab": {
          "base_uri": "https://localhost:8080/"
        },
        "id": "-sAkIxaLsypZ",
        "outputId": "167ded61-be2d-4d8e-a8a0-0dd82379b25c"
      },
      "source": [
        "import pandas as pd\n",
        "from google.colab import drive\n",
        "drive.mount('/content/drive/')"
      ],
      "execution_count": 7,
      "outputs": [
        {
          "output_type": "stream",
          "name": "stdout",
          "text": [
            "Mounted at /content/drive/\n"
          ]
        }
      ]
    },
    {
      "cell_type": "markdown",
      "metadata": {
        "id": "EhhDOKI5KX-f"
      },
      "source": [
        "## Import data"
      ]
    },
    {
      "cell_type": "code",
      "metadata": {
        "id": "3_EGsvlZtH5s",
        "colab": {
          "base_uri": "https://localhost:8080/"
        },
        "outputId": "1ce65ca3-2a2a-4510-e6bd-49836ce2b16b"
      },
      "source": [
        "%cd /content/drive/MyDrive/nlp-getting-started/\n",
        "!ls"
      ],
      "execution_count": 14,
      "outputs": [
        {
          "output_type": "stream",
          "name": "stdout",
          "text": [
            "/content/drive/MyDrive/nlp-getting-started\n",
            "sample_submission.csv  test.csv  train.csv\n"
          ]
        }
      ]
    },
    {
      "cell_type": "markdown",
      "metadata": {
        "id": "Y-g_ZGtRKaYl"
      },
      "source": [
        "## Explore data"
      ]
    },
    {
      "cell_type": "code",
      "metadata": {
        "colab": {
          "base_uri": "https://localhost:8080/"
        },
        "id": "yUD31Zn0HU0A",
        "outputId": "d08ae4fd-389c-4b08-b3a7-7b9457f126e1"
      },
      "source": [
        "train_df = pd.read_csv(\"train.csv\")\n",
        "print(train_df.iloc[0])\n",
        "print(train_df[train_df[\"target\"] == 0][\"text\"].values[0])\n",
        "print(train_df[train_df[\"target\"] == 1][\"text\"].values[0])"
      ],
      "execution_count": 27,
      "outputs": [
        {
          "output_type": "stream",
          "name": "stdout",
          "text": [
            "id                                                          1\n",
            "keyword                                                   NaN\n",
            "location                                                  NaN\n",
            "text        Our Deeds are the Reason of this #earthquake M...\n",
            "target                                                      1\n",
            "Name: 0, dtype: object\n",
            "What's up man?\n",
            "Our Deeds are the Reason of this #earthquake May ALLAH Forgive us all\n"
          ]
        }
      ]
    },
    {
      "cell_type": "code",
      "metadata": {
        "id": "0GxDmxOTIloV"
      },
      "source": [
        ""
      ],
      "execution_count": null,
      "outputs": []
    }
  ]
}