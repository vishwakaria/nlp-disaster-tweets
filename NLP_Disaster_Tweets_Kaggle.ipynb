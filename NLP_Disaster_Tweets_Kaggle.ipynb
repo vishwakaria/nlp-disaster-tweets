{
  "nbformat": 4,
  "nbformat_minor": 0,
  "metadata": {
    "colab": {
      "name": "NLP_Disaster_Tweets_Kaggle.ipynb",
      "provenance": []
    },
    "kernelspec": {
      "name": "python3",
      "display_name": "Python 3"
    },
    "language_info": {
      "name": "python"
    }
  },
  "cells": [
    {
      "cell_type": "code",
      "metadata": {
        "colab": {
          "base_uri": "https://localhost:8080/"
        },
        "id": "-sAkIxaLsypZ",
        "outputId": "ab7cd1f3-7d93-4859-8568-c31a6871f243"
      },
      "source": [
        "import pandas as pd\n",
        "from google.colab import drive\n",
        "drive.mount('/content/drive/')"
      ],
      "execution_count": 1,
      "outputs": [
        {
          "output_type": "stream",
          "name": "stdout",
          "text": [
            "Mounted at /content/drive/\n"
          ]
        }
      ]
    },
    {
      "cell_type": "code",
      "metadata": {
        "colab": {
          "base_uri": "https://localhost:8080/"
        },
        "id": "PWfzPgTwCZ2J",
        "outputId": "f45c2990-bddb-48dd-da49-b3d3d7e233bc"
      },
      "source": [
        "!python -m pip show scikit-learn "
      ],
      "execution_count": 12,
      "outputs": [
        {
          "output_type": "stream",
          "name": "stdout",
          "text": [
            "Name: scikit-learn\n",
            "Version: 0.22.2.post1\n",
            "Summary: A set of python modules for machine learning and data mining\n",
            "Home-page: http://scikit-learn.org\n",
            "Author: None\n",
            "Author-email: None\n",
            "License: new BSD\n",
            "Location: /usr/local/lib/python3.7/dist-packages\n",
            "Requires: joblib, scipy, numpy\n",
            "Required-by: yellowbrick, sklearn, sklearn-pandas, mlxtend, lightgbm, librosa, imbalanced-learn\n"
          ]
        }
      ]
    },
    {
      "cell_type": "markdown",
      "metadata": {
        "id": "EhhDOKI5KX-f"
      },
      "source": [
        "Import data"
      ]
    },
    {
      "cell_type": "code",
      "metadata": {
        "id": "3_EGsvlZtH5s",
        "colab": {
          "base_uri": "https://localhost:8080/"
        },
        "outputId": "728104f7-3c00-4717-ca58-cbb7d72ef144"
      },
      "source": [
        "%cd /content/drive/MyDrive/nlp-getting-started/\n",
        "!ls"
      ],
      "execution_count": 2,
      "outputs": [
        {
          "output_type": "stream",
          "name": "stdout",
          "text": [
            "/content/drive/MyDrive/nlp-getting-started\n",
            "sample_submission.csv  test.csv  train.csv\n"
          ]
        }
      ]
    },
    {
      "cell_type": "markdown",
      "metadata": {
        "id": "Y-g_ZGtRKaYl"
      },
      "source": [
        "### Explore data"
      ]
    },
    {
      "cell_type": "code",
      "metadata": {
        "colab": {
          "base_uri": "https://localhost:8080/"
        },
        "id": "yUD31Zn0HU0A",
        "outputId": "2cb17dd0-547a-4041-b49a-b37ce44ec3ad"
      },
      "source": [
        "train_df = pd.read_csv(\"train.csv\")\n",
        "test_df = pd.read_csv(\"test.csv\")\n",
        "print(train_df.head)\n",
        "print(train_df.iloc[0])\n",
        "print(train_df[train_df[\"target\"] == 0][\"text\"].values[0])\n",
        "print(train_df[train_df[\"target\"] == 1][\"text\"].values[0])\n",
        "\n",
        "print(type(train_df))\n",
        "print(train_df.size)\n",
        "print(test_df.size)"
      ],
      "execution_count": 29,
      "outputs": [
        {
          "output_type": "stream",
          "name": "stdout",
          "text": [
            "<bound method NDFrame.head of          id keyword  ...                                               text target\n",
            "0         1     NaN  ...  Our Deeds are the Reason of this #earthquake M...      1\n",
            "1         4     NaN  ...             Forest fire near La Ronge Sask. Canada      1\n",
            "2         5     NaN  ...  All residents asked to 'shelter in place' are ...      1\n",
            "3         6     NaN  ...  13,000 people receive #wildfires evacuation or...      1\n",
            "4         7     NaN  ...  Just got sent this photo from Ruby #Alaska as ...      1\n",
            "...     ...     ...  ...                                                ...    ...\n",
            "7608  10869     NaN  ...  Two giant cranes holding a bridge collapse int...      1\n",
            "7609  10870     NaN  ...  @aria_ahrary @TheTawniest The out of control w...      1\n",
            "7610  10871     NaN  ...  M1.94 [01:04 UTC]?5km S of Volcano Hawaii. htt...      1\n",
            "7611  10872     NaN  ...  Police investigating after an e-bike collided ...      1\n",
            "7612  10873     NaN  ...  The Latest: More Homes Razed by Northern Calif...      1\n",
            "\n",
            "[7613 rows x 5 columns]>\n",
            "id                                                          1\n",
            "keyword                                                   NaN\n",
            "location                                                  NaN\n",
            "text        Our Deeds are the Reason of this #earthquake M...\n",
            "target                                                      1\n",
            "Name: 0, dtype: object\n",
            "What's up man?\n",
            "Our Deeds are the Reason of this #earthquake May ALLAH Forgive us all\n",
            "<class 'pandas.core.frame.DataFrame'>\n",
            "38065\n",
            "13052\n"
          ]
        }
      ]
    },
    {
      "cell_type": "markdown",
      "metadata": {
        "id": "qXLw2eynByJ9"
      },
      "source": [
        "### Feature Extraction\n"
      ]
    },
    {
      "cell_type": "code",
      "metadata": {
        "id": "0GxDmxOTIloV"
      },
      "source": [
        "from sklearn import feature_extraction, linear_model, model_selection, preprocessing"
      ],
      "execution_count": 4,
      "outputs": []
    },
    {
      "cell_type": "code",
      "metadata": {
        "id": "RcWc9ADgItzb"
      },
      "source": [
        "count_vectorizer = feature_extraction.text.CountVectorizer()\n",
        "example_train_vectors = count_vectorizer.fit_transform(train_df[\"text\"][0:5])"
      ],
      "execution_count": 5,
      "outputs": []
    },
    {
      "cell_type": "code",
      "metadata": {
        "colab": {
          "base_uri": "https://localhost:8080/"
        },
        "id": "U1rq4j8YBKyI",
        "outputId": "24b0a3c3-8cd2-4085-84e8-d847b740487d"
      },
      "source": [
        "print(example_train_vectors[0].todense().shape)\n",
        "print(example_train_vectors[0].todense())"
      ],
      "execution_count": 6,
      "outputs": [
        {
          "output_type": "stream",
          "name": "stdout",
          "text": [
            "(1, 54)\n",
            "[[0 0 0 1 1 1 0 0 0 0 0 0 1 1 0 0 0 0 1 0 0 0 0 0 0 1 0 0 0 1 0 0 0 0 1 0\n",
            "  0 0 0 1 0 0 0 0 0 0 0 0 0 1 1 0 1 0]]\n"
          ]
        }
      ]
    },
    {
      "cell_type": "code",
      "metadata": {
        "id": "7OOdUQQKBPYq"
      },
      "source": [
        "train_vectors = count_vectorizer.fit_transform(train_df[\"text\"])"
      ],
      "execution_count": 7,
      "outputs": []
    },
    {
      "cell_type": "code",
      "metadata": {
        "colab": {
          "base_uri": "https://localhost:8080/"
        },
        "id": "q4uP-HxtBoTI",
        "outputId": "3e02bcf0-ed7a-4bcc-b951-07e26ff2604f"
      },
      "source": [
        "features = count_vectorizer.get_feature_names()\n",
        "print(len(features))"
      ],
      "execution_count": 19,
      "outputs": [
        {
          "output_type": "stream",
          "name": "stdout",
          "text": [
            "21637\n"
          ]
        }
      ]
    },
    {
      "cell_type": "code",
      "metadata": {
        "colab": {
          "base_uri": "https://localhost:8080/"
        },
        "id": "wEtRA6k8Bsqn",
        "outputId": "9721b716-7efb-470f-ea8d-9691719fa7f9"
      },
      "source": [
        "test_vectors = count_vectorizer.transform(test_df[\"text\"])\n",
        "print(type(test_vectors))\n",
        "print(test_vectors.shape)"
      ],
      "execution_count": 26,
      "outputs": [
        {
          "output_type": "stream",
          "name": "stdout",
          "text": [
            "<class 'scipy.sparse.csr.csr_matrix'>\n",
            "(3263, 21637)\n"
          ]
        }
      ]
    },
    {
      "cell_type": "markdown",
      "metadata": {
        "id": "05lCUxZFFb51"
      },
      "source": [
        "### Linear Model"
      ]
    },
    {
      "cell_type": "code",
      "metadata": {
        "id": "h0-g62DsC1TP"
      },
      "source": [
        "## Our vectors are really big, so we want to push our model's weights\n",
        "## toward 0 without completely discounting different words - ridge regression \n",
        "## is a good way to do this.\n",
        "classifier = linear_model.RidgeClassifier()"
      ],
      "execution_count": 31,
      "outputs": []
    },
    {
      "cell_type": "code",
      "metadata": {
        "colab": {
          "base_uri": "https://localhost:8080/"
        },
        "id": "PyWEo4YnFxZu",
        "outputId": "a8559e01-9d47-4fc7-d8bc-163a37ab8e9c"
      },
      "source": [
        "## Cross-validation\n",
        "scores = model_selection.cross_val_score(classifier, train_vectors, train_df[\"target\"], cv=3, scoring=\"f1\")\n",
        "print(scores)"
      ],
      "execution_count": 34,
      "outputs": [
        {
          "output_type": "stream",
          "name": "stdout",
          "text": [
            "[0.59453669 0.56498283 0.64082434]\n"
          ]
        }
      ]
    },
    {
      "cell_type": "code",
      "metadata": {
        "colab": {
          "base_uri": "https://localhost:8080/"
        },
        "id": "zwn9l-58HgDL",
        "outputId": "60166e1a-b591-4942-f5d8-8c96e60b40de"
      },
      "source": [
        "classifier.fit(train_vectors, train_df[\"target\"])"
      ],
      "execution_count": 35,
      "outputs": [
        {
          "output_type": "execute_result",
          "data": {
            "text/plain": [
              "RidgeClassifier(alpha=1.0, class_weight=None, copy_X=True, fit_intercept=True,\n",
              "                max_iter=None, normalize=False, random_state=None,\n",
              "                solver='auto', tol=0.001)"
            ]
          },
          "metadata": {},
          "execution_count": 35
        }
      ]
    },
    {
      "cell_type": "code",
      "metadata": {
        "colab": {
          "base_uri": "https://localhost:8080/",
          "height": 204
        },
        "id": "q8w187DuHwJP",
        "outputId": "d348b1f2-38e1-4a79-fab4-d0f9417ac3c5"
      },
      "source": [
        "sample_submission = pd.read_csv(\"sample_submission.csv\")\n",
        "sample_submission[\"target\"] = classifier.predict(test_vectors)\n",
        "sample_submission.head()"
      ],
      "execution_count": 36,
      "outputs": [
        {
          "output_type": "execute_result",
          "data": {
            "text/html": [
              "<div>\n",
              "<style scoped>\n",
              "    .dataframe tbody tr th:only-of-type {\n",
              "        vertical-align: middle;\n",
              "    }\n",
              "\n",
              "    .dataframe tbody tr th {\n",
              "        vertical-align: top;\n",
              "    }\n",
              "\n",
              "    .dataframe thead th {\n",
              "        text-align: right;\n",
              "    }\n",
              "</style>\n",
              "<table border=\"1\" class=\"dataframe\">\n",
              "  <thead>\n",
              "    <tr style=\"text-align: right;\">\n",
              "      <th></th>\n",
              "      <th>id</th>\n",
              "      <th>target</th>\n",
              "    </tr>\n",
              "  </thead>\n",
              "  <tbody>\n",
              "    <tr>\n",
              "      <th>0</th>\n",
              "      <td>0</td>\n",
              "      <td>0</td>\n",
              "    </tr>\n",
              "    <tr>\n",
              "      <th>1</th>\n",
              "      <td>2</td>\n",
              "      <td>1</td>\n",
              "    </tr>\n",
              "    <tr>\n",
              "      <th>2</th>\n",
              "      <td>3</td>\n",
              "      <td>1</td>\n",
              "    </tr>\n",
              "    <tr>\n",
              "      <th>3</th>\n",
              "      <td>9</td>\n",
              "      <td>0</td>\n",
              "    </tr>\n",
              "    <tr>\n",
              "      <th>4</th>\n",
              "      <td>11</td>\n",
              "      <td>1</td>\n",
              "    </tr>\n",
              "  </tbody>\n",
              "</table>\n",
              "</div>"
            ],
            "text/plain": [
              "   id  target\n",
              "0   0       0\n",
              "1   2       1\n",
              "2   3       1\n",
              "3   9       0\n",
              "4  11       1"
            ]
          },
          "metadata": {},
          "execution_count": 36
        }
      ]
    },
    {
      "cell_type": "code",
      "metadata": {
        "id": "b9scV7gwIDJY"
      },
      "source": [
        "sample_submission.to_csv(\"submission_vishwa.csv\", index=False)"
      ],
      "execution_count": 38,
      "outputs": []
    },
    {
      "cell_type": "code",
      "metadata": {
        "id": "V2c7tIsyIK6o"
      },
      "source": [
        ""
      ],
      "execution_count": null,
      "outputs": []
    }
  ]
}